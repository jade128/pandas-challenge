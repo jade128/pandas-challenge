{
 "cells": [
  {
   "cell_type": "markdown",
   "metadata": {},
   "source": [
    "## Observations and Insights"
   ]
  },
  {
   "cell_type": "markdown",
   "metadata": {},
   "source": [
    "\n",
    "1. There is a strong positive correlation between average tumor volume and weight in Capomulin group, \n",
    "    the correlation coefficient is 0.84.\n",
    "2. Capomulin and Ramicane group have lower average tumor volumes compared to Infubinol and Ceftamin \n",
    "    at end of experiment.\n",
    "3. Tumor volume decrease over time in mouse s185 which treated with Capomulin.\n",
    "4. Almost equal numbers of male and female mice are included in the experiments. \n",
    "\n",
    "\n"
   ]
  },
  {
   "cell_type": "markdown",
   "metadata": {},
   "source": [
    "## Dependencies and starter code"
   ]
  },
  {
   "cell_type": "code",
   "execution_count": 2,
   "metadata": {},
   "outputs": [
    {
     "data": {
      "text/html": [
       "<div>\n",
       "<style scoped>\n",
       "    .dataframe tbody tr th:only-of-type {\n",
       "        vertical-align: middle;\n",
       "    }\n",
       "\n",
       "    .dataframe tbody tr th {\n",
       "        vertical-align: top;\n",
       "    }\n",
       "\n",
       "    .dataframe thead th {\n",
       "        text-align: right;\n",
       "    }\n",
       "</style>\n",
       "<table border=\"1\" class=\"dataframe\">\n",
       "  <thead>\n",
       "    <tr style=\"text-align: right;\">\n",
       "      <th></th>\n",
       "      <th>Mouse ID</th>\n",
       "      <th>Drug Regimen</th>\n",
       "      <th>Sex</th>\n",
       "      <th>Age_months</th>\n",
       "      <th>Weight (g)</th>\n",
       "      <th>Timepoint</th>\n",
       "      <th>Tumor Volume (mm3)</th>\n",
       "      <th>Metastatic Sites</th>\n",
       "    </tr>\n",
       "  </thead>\n",
       "  <tbody>\n",
       "    <tr>\n",
       "      <th>0</th>\n",
       "      <td>k403</td>\n",
       "      <td>Ramicane</td>\n",
       "      <td>Male</td>\n",
       "      <td>21</td>\n",
       "      <td>16</td>\n",
       "      <td>0</td>\n",
       "      <td>45.000000</td>\n",
       "      <td>0</td>\n",
       "    </tr>\n",
       "    <tr>\n",
       "      <th>1</th>\n",
       "      <td>k403</td>\n",
       "      <td>Ramicane</td>\n",
       "      <td>Male</td>\n",
       "      <td>21</td>\n",
       "      <td>16</td>\n",
       "      <td>5</td>\n",
       "      <td>38.825898</td>\n",
       "      <td>0</td>\n",
       "    </tr>\n",
       "    <tr>\n",
       "      <th>2</th>\n",
       "      <td>k403</td>\n",
       "      <td>Ramicane</td>\n",
       "      <td>Male</td>\n",
       "      <td>21</td>\n",
       "      <td>16</td>\n",
       "      <td>10</td>\n",
       "      <td>35.014271</td>\n",
       "      <td>1</td>\n",
       "    </tr>\n",
       "    <tr>\n",
       "      <th>3</th>\n",
       "      <td>k403</td>\n",
       "      <td>Ramicane</td>\n",
       "      <td>Male</td>\n",
       "      <td>21</td>\n",
       "      <td>16</td>\n",
       "      <td>15</td>\n",
       "      <td>34.223992</td>\n",
       "      <td>1</td>\n",
       "    </tr>\n",
       "    <tr>\n",
       "      <th>4</th>\n",
       "      <td>k403</td>\n",
       "      <td>Ramicane</td>\n",
       "      <td>Male</td>\n",
       "      <td>21</td>\n",
       "      <td>16</td>\n",
       "      <td>20</td>\n",
       "      <td>32.997729</td>\n",
       "      <td>1</td>\n",
       "    </tr>\n",
       "  </tbody>\n",
       "</table>\n",
       "</div>"
      ],
      "text/plain": [
       "  Mouse ID Drug Regimen   Sex  Age_months  Weight (g)  Timepoint  \\\n",
       "0     k403     Ramicane  Male          21          16          0   \n",
       "1     k403     Ramicane  Male          21          16          5   \n",
       "2     k403     Ramicane  Male          21          16         10   \n",
       "3     k403     Ramicane  Male          21          16         15   \n",
       "4     k403     Ramicane  Male          21          16         20   \n",
       "\n",
       "   Tumor Volume (mm3)  Metastatic Sites  \n",
       "0           45.000000                 0  \n",
       "1           38.825898                 0  \n",
       "2           35.014271                 1  \n",
       "3           34.223992                 1  \n",
       "4           32.997729                 1  "
      ]
     },
     "execution_count": 2,
     "metadata": {},
     "output_type": "execute_result"
    }
   ],
   "source": [
    "# Dependencies and Setup\n",
    "import matplotlib.pyplot as plt\n",
    "import matplotlib.patches as mpatches\n",
    "import pandas as pd\n",
    "import scipy.stats as st\n",
    "\n",
    "# Study data files\n",
    "mouse_metadata = \"data/Mouse_metadata.csv\"\n",
    "study_results = \"data/Study_results.csv\"\n",
    "\n",
    "# Read the mouse data and the study results\n",
    "mouse_metadata = pd.read_csv(mouse_metadata)\n",
    "study_results = pd.read_csv(study_results)\n",
    "\n",
    "# Combine the data into a single dataset\n",
    "combined_df=pd.merge(mouse_metadata,study_results, how='left', on='Mouse ID')\n",
    "combined_df=combined_df.dropna()\n",
    "combined_df.head()"
   ]
  },
  {
   "cell_type": "markdown",
   "metadata": {},
   "source": [
    "## Summary statistics"
   ]
  },
  {
   "cell_type": "code",
   "execution_count": 3,
   "metadata": {},
   "outputs": [
    {
     "data": {
      "text/html": [
       "<div>\n",
       "<style scoped>\n",
       "    .dataframe tbody tr th:only-of-type {\n",
       "        vertical-align: middle;\n",
       "    }\n",
       "\n",
       "    .dataframe tbody tr th {\n",
       "        vertical-align: top;\n",
       "    }\n",
       "\n",
       "    .dataframe thead th {\n",
       "        text-align: right;\n",
       "    }\n",
       "</style>\n",
       "<table border=\"1\" class=\"dataframe\">\n",
       "  <thead>\n",
       "    <tr style=\"text-align: right;\">\n",
       "      <th></th>\n",
       "      <th>Count</th>\n",
       "      <th>Mean TV</th>\n",
       "      <th>Median TV</th>\n",
       "      <th>Std TV</th>\n",
       "      <th>SEM TV</th>\n",
       "      <th>VAR TV</th>\n",
       "    </tr>\n",
       "    <tr>\n",
       "      <th>Drug Regimen</th>\n",
       "      <th></th>\n",
       "      <th></th>\n",
       "      <th></th>\n",
       "      <th></th>\n",
       "      <th></th>\n",
       "      <th></th>\n",
       "    </tr>\n",
       "  </thead>\n",
       "  <tbody>\n",
       "    <tr>\n",
       "      <th>Capomulin</th>\n",
       "      <td>230</td>\n",
       "      <td>40.675741</td>\n",
       "      <td>41.557809</td>\n",
       "      <td>4.994774</td>\n",
       "      <td>0.329346</td>\n",
       "      <td>24.947764</td>\n",
       "    </tr>\n",
       "    <tr>\n",
       "      <th>Ceftamin</th>\n",
       "      <td>178</td>\n",
       "      <td>52.591172</td>\n",
       "      <td>51.776157</td>\n",
       "      <td>6.268188</td>\n",
       "      <td>0.469821</td>\n",
       "      <td>39.290177</td>\n",
       "    </tr>\n",
       "    <tr>\n",
       "      <th>Infubinol</th>\n",
       "      <td>178</td>\n",
       "      <td>52.884795</td>\n",
       "      <td>51.820584</td>\n",
       "      <td>6.567243</td>\n",
       "      <td>0.492236</td>\n",
       "      <td>43.128684</td>\n",
       "    </tr>\n",
       "    <tr>\n",
       "      <th>Ketapril</th>\n",
       "      <td>188</td>\n",
       "      <td>55.235638</td>\n",
       "      <td>53.698743</td>\n",
       "      <td>8.279709</td>\n",
       "      <td>0.603860</td>\n",
       "      <td>68.553577</td>\n",
       "    </tr>\n",
       "    <tr>\n",
       "      <th>Naftisol</th>\n",
       "      <td>186</td>\n",
       "      <td>54.331565</td>\n",
       "      <td>52.509285</td>\n",
       "      <td>8.134708</td>\n",
       "      <td>0.596466</td>\n",
       "      <td>66.173479</td>\n",
       "    </tr>\n",
       "    <tr>\n",
       "      <th>Placebo</th>\n",
       "      <td>181</td>\n",
       "      <td>54.033581</td>\n",
       "      <td>52.288934</td>\n",
       "      <td>7.821003</td>\n",
       "      <td>0.581331</td>\n",
       "      <td>61.168083</td>\n",
       "    </tr>\n",
       "    <tr>\n",
       "      <th>Propriva</th>\n",
       "      <td>161</td>\n",
       "      <td>52.322552</td>\n",
       "      <td>50.854632</td>\n",
       "      <td>6.507770</td>\n",
       "      <td>0.512884</td>\n",
       "      <td>42.351070</td>\n",
       "    </tr>\n",
       "    <tr>\n",
       "      <th>Ramicane</th>\n",
       "      <td>228</td>\n",
       "      <td>40.216745</td>\n",
       "      <td>40.673236</td>\n",
       "      <td>4.846308</td>\n",
       "      <td>0.320955</td>\n",
       "      <td>23.486704</td>\n",
       "    </tr>\n",
       "    <tr>\n",
       "      <th>Stelasyn</th>\n",
       "      <td>181</td>\n",
       "      <td>54.233149</td>\n",
       "      <td>52.431737</td>\n",
       "      <td>7.710419</td>\n",
       "      <td>0.573111</td>\n",
       "      <td>59.450562</td>\n",
       "    </tr>\n",
       "    <tr>\n",
       "      <th>Zoniferol</th>\n",
       "      <td>182</td>\n",
       "      <td>53.236507</td>\n",
       "      <td>51.818479</td>\n",
       "      <td>6.966589</td>\n",
       "      <td>0.516398</td>\n",
       "      <td>48.533355</td>\n",
       "    </tr>\n",
       "  </tbody>\n",
       "</table>\n",
       "</div>"
      ],
      "text/plain": [
       "              Count    Mean TV  Median TV    Std TV    SEM TV     VAR TV\n",
       "Drug Regimen                                                            \n",
       "Capomulin       230  40.675741  41.557809  4.994774  0.329346  24.947764\n",
       "Ceftamin        178  52.591172  51.776157  6.268188  0.469821  39.290177\n",
       "Infubinol       178  52.884795  51.820584  6.567243  0.492236  43.128684\n",
       "Ketapril        188  55.235638  53.698743  8.279709  0.603860  68.553577\n",
       "Naftisol        186  54.331565  52.509285  8.134708  0.596466  66.173479\n",
       "Placebo         181  54.033581  52.288934  7.821003  0.581331  61.168083\n",
       "Propriva        161  52.322552  50.854632  6.507770  0.512884  42.351070\n",
       "Ramicane        228  40.216745  40.673236  4.846308  0.320955  23.486704\n",
       "Stelasyn        181  54.233149  52.431737  7.710419  0.573111  59.450562\n",
       "Zoniferol       182  53.236507  51.818479  6.966589  0.516398  48.533355"
      ]
     },
     "execution_count": 3,
     "metadata": {},
     "output_type": "execute_result"
    }
   ],
   "source": [
    "# Generate a summary statistics table of mean, median, variance, standard deviation, and SEM of the tumor volume for each regimen\n",
    "combined_groupby_df=combined_df.groupby(['Drug Regimen'])\n",
    "TV_meanByDrg=combined_groupby_df['Tumor Volume (mm3)'].mean()\n",
    "TV_medianByDrg=combined_groupby_df['Tumor Volume (mm3)'].median()\n",
    "TV_varByDrg=combined_groupby_df['Tumor Volume (mm3)'].var()\n",
    "TV_stdByDrg=combined_groupby_df['Tumor Volume (mm3)'].std()\n",
    "TV_semByDrg=combined_groupby_df['Tumor Volume (mm3)'].sem()\n",
    "TV_countByDrg=combined_groupby_df['Tumor Volume (mm3)'].count()\n",
    "TV_summary_df=pd.DataFrame({'Count':TV_countByDrg,'Mean TV':TV_meanByDrg,'Median TV':TV_medianByDrg,'Std TV':TV_stdByDrg,'SEM TV':TV_semByDrg,'VAR TV':TV_varByDrg})\n",
    "\n",
    "TV_summary_df"
   ]
  },
  {
   "cell_type": "markdown",
   "metadata": {},
   "source": [
    "## Bar plots"
   ]
  },
  {
   "cell_type": "code",
   "execution_count": 22,
   "metadata": {},
   "outputs": [
    {
     "data": {
      "image/png": "[encoded data removed]",
      "text/plain": [
       "<Figure size 1440x360 with 1 Axes>"
      ]
     },
     "metadata": {
      "needs_background": "light"
     },
     "output_type": "display_data"
    }
   ],
   "source": [
    "# Generate a bar plot showing number of data points for each treatment regimen using pandas\n",
    "NumByDrg_df=TV_summary_df[['Count']].reset_index()\n",
    "Num_plot=NumByDrg_df.plot(kind=\"bar\",color='salmon', figsize=(20,5))\n",
    "Num_plot.set_xticklabels(NumByDrg_df[\"Drug Regimen\"], rotation=0)\n",
    "plt.ylabel('Number of Tumor Measurements')\n",
    "plt.xlabel('Drug Regimen')\n",
    "plt.xlim(-0.75, len(NumByDrg_df['Drug Regimen'])-0.25)\n",
    "plt.ylim(0, max(NumByDrg_df['Count'])+50)\n",
    "plt.tight_layout()"
   ]
  },
  {
   "cell_type": "code",
   "execution_count": 18,
   "metadata": {},
   "outputs": [
    {
     "data": {
      "image/png": "[encoded data removed]",
      "text/plain": [
       "<Figure size 1440x360 with 1 Axes>"
      ]
     },
     "metadata": {
      "needs_background": "light"
     },
     "output_type": "display_data"
    }
   ],
   "source": [
    "# Generate a bar plot showing number of data points for each treatment regimen using pyplot\n",
    "plt.figure(figsize=(20,5))\n",
    "plt.bar(NumByDrg_df['Drug Regimen'],NumByDrg_df['Count'],color='red',width=0.5, alpha=0.55, align=\"center\")\n",
    "plt.ylim(0, max(NumByDrg_df['Count'])+50)\n",
    "plt.xlim(-0.75, len(NumByDrg_df['Drug Regimen'])-0.25)\n",
    "plt.ylabel('Number of Tumor Measurements')\n",
    "plt.xlabel('Drug Regimens')\n",
    "sal_patch = mpatches.Patch(color='salmon', label='Count')\n",
    "plt.legend(handles=[sal_patch])\n",
    "plt.tight_layout()"
   ]
  },
  {
   "cell_type": "markdown",
   "metadata": {},
   "source": [
    "## Pie plots"
   ]
  },
  {
   "cell_type": "code",
   "execution_count": 6,
   "metadata": {},
   "outputs": [
    {
     "data": {
      "image/png": "[encoded data removed]",
      "text/plain": [
       "<Figure size 360x360 with 1 Axes>"
      ]
     },
     "metadata": {},
     "output_type": "display_data"
    }
   ],
   "source": [
    "# Generate a pie plot showing the distribution of female versus male mice using pandas\n",
    "gender_df=mouse_metadata.groupby(['Sex'])\n",
    "countByG_df=pd.DataFrame(gender_df['Sex'].count())\n",
    "Gender_pie=countByG_df.plot(kind=\"pie\",subplots=True, figsize=(5,5))"
   ]
  },
  {
   "cell_type": "code",
   "execution_count": 7,
   "metadata": {},
   "outputs": [
    {
     "data": {
      "image/png": "[encoded data removed]",
      "text/plain": [
       "<Figure size 432x288 with 1 Axes>"
      ]
     },
     "metadata": {},
     "output_type": "display_data"
    }
   ],
   "source": [
    "# Generate a pie plot showing the distribution of female versus male mice using pyplot\n",
    "explode = (0, 0)\n",
    "plt.figsize=(5,5)\n",
    "plt.pie(countByG_df['Sex'], explode=explode, labels=['Female','Male'], \n",
    "         shadow=True, startangle=0)\n",
    "plt.ylabel('Sex')\n",
    "blue_patch = mpatches.Patch(color='tab:blue', label='Female')\n",
    "ye_patch = mpatches.Patch(color='tab:orange', label='Male')\n",
    "plt.legend(handles=[blue_patch,ye_patch,])\n",
    "\n",
    "plt.tight_layout()\n"
   ]
  },
  {
   "cell_type": "markdown",
   "metadata": {},
   "source": [
    "## Quartiles, outliers and boxplots"
   ]
  },
  {
   "cell_type": "code",
   "execution_count": 8,
   "metadata": {},
   "outputs": [
    {
     "name": "stdout",
     "output_type": "stream",
     "text": [
      "Capomulin group :\n",
      "    Lower quartile of final TV : 32.37735684\n",
      "    Upper quartile of final TV : 40.1592203\n",
      "    Interquartile range of final : 7.781863460000004\n",
      "    Median of final TV : 38.125164399999996 \n",
      "    Lower bound of final TV : 20.70456164999999\n",
      "    Upper bound of final TV :  51.83201549 \n",
      "Ramicane group :\n",
      "    Lower quartile of final TV : 31.56046955\n",
      "    Upper quartile of final TV : 40.65900627\n",
      "    Interquartile range of final : 9.098536719999998\n",
      "    Median of final TV : 36.56165229 \n",
      "    Lower bound of final TV : 17.912664470000003\n",
      "    Upper bound of final TV :  54.30681135 \n",
      "Infubinol group :\n",
      "    Lower quartile of final TV : 54.04860769\n",
      "    Upper quartile of final TV : 65.52574285\n",
      "    Interquartile range of final : 11.477135160000003\n",
      "    Median of final TV : 60.16518046 \n",
      "    Lower bound of final TV : 36.83290494999999\n",
      "    Upper bound of final TV :  82.74144559000001 \n",
      "Ceftamin group :\n",
      "    Lower quartile of final TV : 48.72207785\n",
      "    Upper quartile of final TV : 64.29983003\n",
      "    Interquartile range of final : 15.577752179999997\n",
      "    Median of final TV : 59.85195552 \n",
      "    Lower bound of final TV : 25.355449580000002\n",
      "    Upper bound of final TV :  87.66645829999999 \n"
     ]
    },
    {
     "data": {
      "text/html": [
       "<div>\n",
       "<style scoped>\n",
       "    .dataframe tbody tr th:only-of-type {\n",
       "        vertical-align: middle;\n",
       "    }\n",
       "\n",
       "    .dataframe tbody tr th {\n",
       "        vertical-align: top;\n",
       "    }\n",
       "\n",
       "    .dataframe thead th {\n",
       "        text-align: right;\n",
       "    }\n",
       "</style>\n",
       "<table border=\"1\" class=\"dataframe\">\n",
       "  <thead>\n",
       "    <tr style=\"text-align: right;\">\n",
       "      <th></th>\n",
       "      <th>Drug Regimen</th>\n",
       "      <th>Sex</th>\n",
       "      <th>Age_months</th>\n",
       "      <th>Weight (g)</th>\n",
       "      <th>Timepoint</th>\n",
       "      <th>Tumor Volume (mm3)</th>\n",
       "      <th>Metastatic Sites</th>\n",
       "    </tr>\n",
       "  </thead>\n",
       "  <tbody>\n",
       "    <tr>\n",
       "      <th>0</th>\n",
       "      <td>Infubinol</td>\n",
       "      <td>Female</td>\n",
       "      <td>18</td>\n",
       "      <td>25</td>\n",
       "      <td>5</td>\n",
       "      <td>36.321346</td>\n",
       "      <td>0</td>\n",
       "    </tr>\n",
       "  </tbody>\n",
       "</table>\n",
       "</div>"
      ],
      "text/plain": [
       "  Drug Regimen     Sex  Age_months  Weight (g)  Timepoint  Tumor Volume (mm3)  \\\n",
       "0    Infubinol  Female          18          25          5           36.321346   \n",
       "\n",
       "   Metastatic Sites  \n",
       "0                 0  "
      ]
     },
     "execution_count": 8,
     "metadata": {},
     "output_type": "execute_result"
    }
   ],
   "source": [
    "# Calculate the final tumor volume of each mouse across four of the most promising treatment regimens. Calculate the IQR and quantitatively determine if there are any potential outliers.\n",
    "drug4_df=combined_df[combined_df[\"Drug Regimen\"].isin(['Capomulin','Ramicane','Infubinol','Ceftamin'])]\n",
    "drug4_df.sort_values([\"Mouse ID\", \"Timepoint\"], ascending=[True, True])\n",
    "\n",
    "final_TV_df=drug4_df.groupby([\"Mouse ID\"]).last()\n",
    "\n",
    "outlier_TV=pd.DataFrame()\n",
    "for x in ['Capomulin','Ramicane','Infubinol','Ceftamin']:\n",
    "    final_TV=final_TV_df.loc[final_TV_df[\"Drug Regimen\"]==x]['Tumor Volume (mm3)']\n",
    "\n",
    "    quartiles = final_TV.quantile([.25,.5,.75])\n",
    "    lowerq = quartiles[0.25]\n",
    "    upperq = quartiles[0.75]\n",
    "    iqr = upperq-lowerq\n",
    "    lower_bound = lowerq - (1.5*iqr)\n",
    "    upper_bound = upperq + (1.5*iqr)\n",
    "    print(f\"{x} group :\")\n",
    "    print(f\"    Lower quartile of final TV : {lowerq}\")\n",
    "    print(f\"    Upper quartile of final TV : {upperq}\")\n",
    "    print(f\"    Interquartile range of final : {iqr}\")\n",
    "    print(f\"    Median of final TV : {quartiles[0.5]} \")\n",
    "    print(f\"    Lower bound of final TV : {lower_bound}\")\n",
    "    print(f\"    Upper bound of final TV :  {upper_bound} \")\n",
    "\n",
    "    outlier_TV =outlier_TV.append( (final_TV_df.loc[(final_TV_df[\"Drug Regimen\"]==x) & ((final_TV_df['Tumor Volume (mm3)'] < lower_bound) | (final_TV_df['Tumor Volume (mm3)'] > upper_bound))]), ignore_index=True)\n",
    "\n",
    "\n",
    "outlier_TV\n",
    "\n"
   ]
  },
  {
   "cell_type": "code",
   "execution_count": 9,
   "metadata": {},
   "outputs": [
    {
     "data": {
      "image/png": "[encoded data removed]",
      "text/plain": [
       "<Figure size 1080x360 with 1 Axes>"
      ]
     },
     "metadata": {
      "needs_background": "light"
     },
     "output_type": "display_data"
    }
   ],
   "source": [
    "# Generate a box plot of the final tumor volume of each mouse across four regimens of interest\n",
    "final4_TV=[]\n",
    "for x in ['Capomulin','Ramicane','Infubinol','Ceftamin']:\n",
    "    final4_TV.append(final_TV_df.loc[final_TV_df[\"Drug Regimen\"]==x]['Tumor Volume (mm3)'])\n",
    "\n",
    "red_diamond = dict(markerfacecolor='r', marker='D')\n",
    "fig1, ax1 = plt.subplots(figsize=(15,5))\n",
    "ax1.set_title('Tumor Volumes at last timepoint 45 in mice treated with drug treatments')\n",
    "ax1.set_ylabel('Tumor Volume (mm3)')\n",
    "ax1.set_xticklabels(['Capomulin','Ramicane','Infubinol','Ceftamin'])\n",
    "ax1.boxplot(final4_TV,flierprops=red_diamond)\n",
    "plt.show()\n",
    "\n"
   ]
  },
  {
   "cell_type": "markdown",
   "metadata": {},
   "source": [
    "## Line and scatter plots"
   ]
  },
  {
   "cell_type": "code",
   "execution_count": 10,
   "metadata": {},
   "outputs": [
    {
     "data": {
      "text/plain": [
       "Text(0.5, 1.0, 'Tumor volume changes over time in mouse s185 treated with Capomulin ')"
      ]
     },
     "execution_count": 10,
     "metadata": {},
     "output_type": "execute_result"
    },
    {
     "data": {
      "image/png": "[encoded data removed]",
      "text/plain": [
       "<Figure size 720x360 with 1 Axes>"
      ]
     },
     "metadata": {
      "needs_background": "light"
     },
     "output_type": "display_data"
    }
   ],
   "source": [
    "# Generate a line plot of time point versus tumor volume for a mouse treated with Capomulin\n",
    "\n",
    "mouse_df=combined_df.loc[combined_df[\"Drug Regimen\"]==\"Capomulin\"].head(10)\n",
    "\n",
    "plt.figure(figsize=(10, 5))\n",
    "plt.plot(mouse_df[\"Timepoint\"], mouse_df['Tumor Volume (mm3)'], marker ='o', color='blue', )\n",
    "plt.ylabel('Tumor Volume (mm3)')\n",
    "plt.xlabel('Time point')\n",
    "plt.ylim(0, max(mouse_df['Tumor Volume (mm3)'])+15)\n",
    "plt.xlim(-1, max(mouse_df[\"Timepoint\"])+2)\n",
    "plt.title(f\"Tumor volume changes over time in mouse {mouse_df.iat[0,0]} treated with Capomulin \")\n"
   ]
  },
  {
   "cell_type": "code",
   "execution_count": 11,
   "metadata": {},
   "outputs": [
    {
     "data": {
      "text/plain": [
       "Text(0.5, 1.0, 'Avg Tumor volume versus weight in mice treated with Capomulin ')"
      ]
     },
     "execution_count": 11,
     "metadata": {},
     "output_type": "execute_result"
    },
    {
     "data": {
      "image/png": "[encoded data removed]",
      "text/plain": [
       "<Figure size 720x360 with 1 Axes>"
      ]
     },
     "metadata": {
      "needs_background": "light"
     },
     "output_type": "display_data"
    }
   ],
   "source": [
    "# Generate a scatter plot of mouse weight versus average tumor volume for the Capomulin regimen\n",
    "Capomu_df=combined_df.loc[combined_df[\"Drug Regimen\"]==\"Capomulin\"]\n",
    "capomuGby_df=Capomu_df.groupby(['Mouse ID'])\n",
    "plt.figure(figsize=(10, 5))\n",
    "plt.scatter(capomuGby_df[\"Weight (g)\"].mean(), capomuGby_df['Tumor Volume (mm3)'].mean(), marker=\"o\", facecolors=\"green\", edgecolors=\"green\",\n",
    "          s=capomuGby_df[\"Weight (g)\"].mean(), alpha=0.75)\n",
    "plt.ylabel('Avg Tumor Volume (mm3) per mouse')\n",
    "plt.xlabel('Weight (g)')\n",
    "plt.ylim(min(capomuGby_df['Tumor Volume (mm3)'].mean())-5, max(capomuGby_df['Tumor Volume (mm3)'].mean())+5)\n",
    "plt.xlim(14, max(Capomu_df[\"Weight (g)\"])+2)\n",
    "plt.title(\"Avg Tumor volume versus weight in mice treated with Capomulin \")\n"
   ]
  },
  {
   "cell_type": "code",
   "execution_count": 12,
   "metadata": {},
   "outputs": [
    {
     "name": "stdout",
     "output_type": "stream",
     "text": [
      "The correlation coefficient between mouse weight and average tumor volume for the Capomulin regimen is 0.84\n"
     ]
    }
   ],
   "source": [
    "# Calculate the correlation coefficient and linear regression model for mouse weight and average tumor volume for the Capomulin regimen\n",
    "correlation = st.pearsonr(capomuGby_df[\"Weight (g)\"].mean(),capomuGby_df['Tumor Volume (mm3)'].mean())\n",
    "print(f\"The correlation coefficient between mouse weight and average tumor volume for the Capomulin regimen is {round(correlation[0],2)}\")\n",
    "\n"
   ]
  },
  {
   "cell_type": "code",
   "execution_count": 13,
   "metadata": {},
   "outputs": [
    {
     "data": {
      "image/png": "[encoded data removed]",
      "text/plain": [
       "<Figure size 720x360 with 1 Axes>"
      ]
     },
     "metadata": {
      "needs_background": "light"
     },
     "output_type": "display_data"
    },
    {
     "name": "stdout",
     "output_type": "stream",
     "text": [
      " The R-squared : 0.84\n"
     ]
    },
    {
     "data": {
      "text/plain": [
       "<Figure size 432x288 with 0 Axes>"
      ]
     },
     "metadata": {},
     "output_type": "display_data"
    }
   ],
   "source": [
    "# Calculate linear regression model and Add the linear regression equation and line to plot\n",
    "x_values = capomuGby_df[\"Weight (g)\"].mean()\n",
    "y_values = capomuGby_df['Tumor Volume (mm3)'].mean()\n",
    "(slope, intercept, rvalue, pvalue, stderr) = st.linregress(x_values, y_values)\n",
    "regress_values = x_values * slope + intercept\n",
    "line_eq = \"y = \" + str(round(slope,2)) + \"x + \" + str(round(intercept,2))\n",
    "\n",
    "plt.figure(figsize=(10, 5))\n",
    "plt.scatter(x_values,y_values,marker=\"o\", facecolors=\"green\", edgecolors=\"green\",\n",
    "          s=x_values, alpha=0.75)\n",
    "plt.plot(x_values,regress_values,\"r-\")\n",
    "plt.annotate(\"\"+line_eq,(18,36),fontsize=15,color=\"red\")\n",
    "plt.ylabel('Avg Tumor Volume (mm3) per mouse')\n",
    "plt.xlabel('Weight (g)')\n",
    "plt.ylim(min(y_values)-2, max(y_values)+2)\n",
    "plt.xlim(14, max(x_values)+1)\n",
    "plt.title(\"Avg Tumor volume versus weight in mice treated with Capomulin \")\n",
    "plt.show()\n",
    "plt.tight_layout()\n",
    "print(f\" The R-squared : {round(rvalue,2)}\")"
   ]
  },
  {
   "cell_type": "code",
   "execution_count": null,
   "metadata": {},
   "outputs": [],
   "source": []
  }
 ],
 "metadata": {
  "anaconda-cloud": {},
  "kernelspec": {
   "display_name": "Python 3.7.6 64-bit ('PythonData': conda)",
   "language": "python",
   "name": "python37664bitpythondataconda31ce6ccdbb384b309d09bcb6554e33db"
  },
  "language_info": {
   "codemirror_mode": {
    "name": "ipython",
    "version": 3
   },
   "file_extension": ".py",
   "mimetype": "text/x-python",
   "name": "python",
   "nbconvert_exporter": "python",
   "pygments_lexer": "ipython3",
   "version": "3.7.6"
  }
 },
 "nbformat": 4,
 "nbformat_minor": 2
}
